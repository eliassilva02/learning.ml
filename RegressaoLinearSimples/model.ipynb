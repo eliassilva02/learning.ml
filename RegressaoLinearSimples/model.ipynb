{
 "cells": [
  {
   "cell_type": "code",
   "execution_count": 109,
   "metadata": {},
   "outputs": [],
   "source": [
    "import pandas as pd\n",
    "from sklearn.linear_model import LinearRegression\n",
    "import matplotlib.pyplot as plt\n",
    "from sklearn.model_selection import train_test_split\n",
    "from sklearn.feature_selection import r_regression\n",
    "from sklearn.metrics import mean_squared_error"
   ]
  },
  {
   "cell_type": "markdown",
   "metadata": {},
   "source": [
    "# Base de Dados\n",
    "\n",
    "- Leitura dos dados\n",
    "- Transformação das variáveis em um array 2D"
   ]
  },
  {
   "cell_type": "code",
   "execution_count": 141,
   "metadata": {},
   "outputs": [],
   "source": [
    "base = pd.read_excel('base.xlsx')\n",
    "\n",
    "x = base['idade'].values\n",
    "y = base['altura'].values\n",
    "\n",
    "x = x.reshape(-1, 1)\n",
    "y = y.reshape(-1, 1)"
   ]
  },
  {
   "cell_type": "markdown",
   "metadata": {},
   "source": [
    "# Modelo de Machine-Learning\n",
    "\n",
    "- Divisão da base de dados em variaveis de treino e teste\n",
    "- Treinamento do Modelo\n",
    "- Predição com valores teste\n",
    "\n",
    "\n",
    "## Explicação da função fit(X, y)\n",
    "```\n",
    "  Equação da reta\n",
    "  y = mx + b # m é a inclinação e b é a intersecção \n",
    "```\n",
    "- O algoritmo inicializa os coeficientes do modelo com valores aleatórios ou com estimativas baseadas em conhecimento prévio.\n",
    "- O algoritmo calcula os valores previstos pelo modelo para cada ponto de dados.\n",
    "- O algoritmo calcula a soma dos quadrados dos resíduos para cada ponto de dados.\n",
    "- O algoritmo atualiza os coeficientes do modelo de acordo com o algoritmo de otimização escolhido.\n",
    "- O algoritmo repete os passos 2 a 4 até que a soma dos quadrados dos resíduos não diminua mais significativamente."
   ]
  },
  {
   "cell_type": "code",
   "execution_count": 140,
   "metadata": {},
   "outputs": [],
   "source": [
    "X_train, X_test, y_train, y_test = train_test_split(x, y, test_size=0.3)\n",
    "\n",
    "model = LinearRegression()\n",
    "\n",
    "model.fit(X_train, y_train)\n",
    "\n",
    "y_pred = model.predict(X_test)"
   ]
  },
  {
   "cell_type": "markdown",
   "metadata": {},
   "source": [
    "## Métricas\n",
    "\n",
    "- Coeficiente de determinação (R²).\n",
    "- Coeficiente de correlação de Person.\n",
    "- Coeficiente das variáveis(inclinação da reta)\n",
    "- Erro quadrático médio"
   ]
  },
  {
   "cell_type": "code",
   "execution_count": 139,
   "metadata": {},
   "outputs": [
    {
     "name": "stderr",
     "output_type": "stream",
     "text": [
      "C:\\Users\\IMendes_41\\AppData\\Local\\Packages\\PythonSoftwareFoundation.Python.3.11_qbz5n2kfra8p0\\LocalCache\\local-packages\\Python311\\site-packages\\sklearn\\utils\\validation.py:1184: DataConversionWarning: A column-vector y was passed when a 1d array was expected. Please change the shape of y to (n_samples, ), for example using ravel().\n",
      "  y = column_or_1d(y, warn=True)\n"
     ]
    },
    {
     "data": {
      "text/plain": [
       "(0.9237580809308127,\n",
       " array([0.98493043]),\n",
       " array([[5.11977566]]),\n",
       " 48.235866020475456)"
      ]
     },
     "execution_count": 139,
     "metadata": {},
     "output_type": "execute_result"
    }
   ],
   "source": [
    "# Coeficiente de determinação do modelo. Basicamente mostra o quanto o modelo consegue explicar os valores\n",
    "r2 = model.score(X_test,y_test)\n",
    "\n",
    "# Coeficiente de correlação de Person. Diz basicamente, o quanto essas 2 variaveis se correlacionam e o quão forte essa variavel é\n",
    "correlation = r_regression(X_train, y_train)\n",
    "\n",
    "# O atributo coef_ é a média do coeficiente da inclinação da reta.\n",
    "# É o tanto que a variavel preditiva muda quando uma variavel independente aumenta(por exemplo)\n",
    "# Então é como se a altura subisse na MÉDIA 5cm a mais, de acordo com a variavel independente, do q a altura da idade anterior\n",
    "coefficient = model.coef_\n",
    "\n",
    "# Ele vai iterar sobre as listas dos valores reais e os valores preditivos, \n",
    "# olhar cada diferença e calcular o quadrado dela, calcular a média dessas diferenças.\n",
    "# Da pra passar pesos para cada valor dentro da lista.\n",
    "mean_error = mean_squared_error(y_test, y_pred)\n",
    "\n",
    "r2, correlation, coefficient, mean_error"
   ]
  },
  {
   "cell_type": "code",
   "execution_count": 131,
   "metadata": {},
   "outputs": [
    {
     "data": {
      "image/png": "[encoded data removed]",
      "text/plain": [
       "<Figure size 640x480 with 1 Axes>"
      ]
     },
     "metadata": {},
     "output_type": "display_data"
    }
   ],
   "source": [
    "# Plot\n",
    "plt.scatter(X_test, y_test, color=\"black\")\n",
    "# Line Outputs\n",
    "plt.plot(X_test, y_pred, color=\"blue\", linewidth=3)\n",
    "\n",
    "plt.show()"
   ]
  }
 ],
 "metadata": {
  "kernelspec": {
   "display_name": "Python 3",
   "language": "python",
   "name": "python3"
  },
  "language_info": {
   "codemirror_mode": {
    "name": "ipython",
    "version": 3
   },
   "file_extension": ".py",
   "mimetype": "text/x-python",
   "name": "python",
   "nbconvert_exporter": "python",
   "pygments_lexer": "ipython3",
   "version": "3.11.6"
  }
 },
 "nbformat": 4,
 "nbformat_minor": 2
}
